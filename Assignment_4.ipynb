{
 "cells": [
  {
   "cell_type": "code",
   "execution_count": 1,
   "metadata": {},
   "outputs": [
    {
     "name": "stdout",
     "output_type": "stream",
     "text": [
      "1\n",
      "2\n",
      "3\n",
      "4\n",
      "5\n"
     ]
    }
   ],
   "source": [
    "# Q1. Which two operator overloading methods can you use in your classes to support iteration?\n",
    "\n",
    "'''To support iteration in your classes, you can use the following two operator overloading methods:\n",
    "\n",
    "__iter__: This method is called when an iterator object is required, typically when using a loop to iterate over instances of the class. It should return an iterator object that implements the __next__ method (or next() method in Python 2) to retrieve the next item in the iteration sequence.\n",
    "\n",
    "__next__: This method is called by the iterator object returned by the __iter__ method to retrieve the next item in the iteration sequence. It should return the next item in the sequence or raise a StopIteration exception when the end of the sequence is reached.'''\n",
    "\n",
    "class MyIterable:\n",
    "    def __init__(self, data):\n",
    "        self.data = data\n",
    "        self.index = 0\n",
    "\n",
    "    def __iter__(self):\n",
    "        return self\n",
    "\n",
    "    def __next__(self):\n",
    "        if self.index < len(self.data):\n",
    "            item = self.data[self.index]\n",
    "            self.index += 1\n",
    "            return item\n",
    "        else:\n",
    "            raise StopIteration\n",
    "\n",
    "# Creating an instance of MyIterable\n",
    "my_iterable = MyIterable([1, 2, 3, 4, 5])\n",
    "\n",
    "# Iterating over the instance using a for loop\n",
    "for item in my_iterable:\n",
    "    print(item)\n",
    "\n",
    "# Output:\n",
    "# 1\n",
    "# 2\n",
    "# 3\n",
    "# 4\n",
    "# 5\n"
   ]
  },
  {
   "cell_type": "code",
   "execution_count": 2,
   "metadata": {},
   "outputs": [
    {
     "name": "stdout",
     "output_type": "stream",
     "text": [
      "This is a MyClass object with value: 10\n",
      "This is a MyClass object with value: 10\n",
      "MyClass(10)\n"
     ]
    },
    {
     "data": {
      "text/plain": [
       "MyClass(10)"
      ]
     },
     "execution_count": 2,
     "metadata": {},
     "output_type": "execute_result"
    }
   ],
   "source": [
    "# Q2. In what contexts do the two operator overloading methods manage printing?\n",
    "\n",
    "\n",
    "'''\n",
    "The two operator overloading methods that manage printing in Python classes are:\n",
    "\n",
    "__str__:\n",
    "\n",
    "Context: This method is called when the str() function is used to convert an object to a string. It is also invoked when the print() function is called with an object as its argument.\n",
    "Purpose: The __str__ method should return a string representation of the object that is human-readable and descriptive.\n",
    "__repr__:\n",
    "\n",
    "Context: This method is called when the repr() function is used to obtain a string representation of an object, or when an interactive interpreter prints the result of evaluating an expression.\n",
    "Purpose: The __repr__ method should return a string representation of the object that is unambiguous and suitable for debugging and understanding the object's state.\n",
    "\n",
    "'''\n",
    "\n",
    "class MyClass:\n",
    "    def __init__(self, value):\n",
    "        self.value = value\n",
    "\n",
    "    def __str__(self):\n",
    "        return f\"This is a MyClass object with value: {self.value}\"\n",
    "\n",
    "    def __repr__(self):\n",
    "        return f\"MyClass({self.value})\"\n",
    "\n",
    "# Creating an instance of MyClass\n",
    "obj = MyClass(10)\n",
    "\n",
    "# Printing the object using str()\n",
    "print(str(obj))  # Outputs: This is a MyClass object with value: 10\n",
    "\n",
    "# Printing the object using print()\n",
    "print(obj)  # Outputs: This is a MyClass object with value: 10\n",
    "\n",
    "# Obtaining the string representation using repr()\n",
    "print(repr(obj))  # Outputs: MyClass(10)\n",
    "\n",
    "# Printing the object in an interactive interpreter\n",
    "obj  # Outputs: MyClass(10)\n"
   ]
  },
  {
   "cell_type": "code",
   "execution_count": 3,
   "metadata": {},
   "outputs": [
    {
     "name": "stdout",
     "output_type": "stream",
     "text": [
      "[2, 4]\n"
     ]
    }
   ],
   "source": [
    "# Q3. In a class, how do you intercept slice operations?\n",
    "\n",
    "'''\n",
    "To intercept slice operations in a class, you can implement the __getitem__ method and handle slicing logic within it. The __getitem__ method allows instances of a class to support indexing and slicing operations, such as obj[index] or obj[start:end:step].\n",
    "\n",
    "Within the __getitem__ method, you can check the type of the key parameter to determine whether the operation is a single index access or a slice operation. If it's a slice operation, you can extract the start, stop, and step values from the slice object and return a sliced portion of the data accordingly.\n",
    "'''\n",
    "\n",
    "class MyList:\n",
    "    def __init__(self, data):\n",
    "        self.data = data\n",
    "    \n",
    "    def __getitem__(self, key):\n",
    "        if isinstance(key, slice):\n",
    "            start, stop, step = key.start, key.stop, key.step\n",
    "            return self.data[start:stop:step]\n",
    "        else:\n",
    "            return self.data[key]\n",
    "\n",
    "# Create an instance of MyList\n",
    "my_list = MyList([1, 2, 3, 4, 5])\n",
    "\n",
    "# Perform slicing operation\n",
    "sliced_data = my_list[1:4:2]\n",
    "print(sliced_data)  # Output: [2, 4]\n",
    "\n"
   ]
  },
  {
   "cell_type": "code",
   "execution_count": 4,
   "metadata": {},
   "outputs": [
    {
     "name": "stdout",
     "output_type": "stream",
     "text": [
      "8\n"
     ]
    }
   ],
   "source": [
    "# Q4. In a class, how do you capture in-place addition?\n",
    "\n",
    "'''In a class, you can capture in-place addition by implementing the __iadd__ method. This method is called when the += operator is used to perform in-place addition on an instance of the class.\n",
    "\n",
    "The __iadd__ method should modify the object in place to reflect the result of the addition operation and return the modified object. By defining this method, you can customize how instances of your class behave when subjected to in-place addition operations.\n",
    "\n",
    "Here's an example demonstrating how to capture in-place addition in a class:\n",
    "'''\n",
    "\n",
    "class Number:\n",
    "    def __init__(self, value):\n",
    "        self.value = value\n",
    "    \n",
    "    def __iadd__(self, other):\n",
    "        self.value += other\n",
    "        return self\n",
    "\n",
    "# Create an instance of Number\n",
    "num = Number(5)\n",
    "\n",
    "# Perform in-place addition\n",
    "num += 3\n",
    "\n",
    "print(num.value)  # Output: 8\n"
   ]
  },
  {
   "cell_type": "code",
   "execution_count": 5,
   "metadata": {},
   "outputs": [
    {
     "data": {
      "text/plain": [
       "'\\n\\nOperator overloading is appropriate in Python when it enhances the readability, expressiveness, and usability of your code without sacrificing clarity or violating the principle of least astonishment. Here are some situations where operator overloading is commonly used:\\n\\nNatural Semantics: When the operators have a natural semantic meaning in the context of your class or data structure, overloading them can make your code more intuitive and readable. For example, overloading the + operator for vector addition in a Vector class.\\n\\nSimplifying Syntax: Operator overloading can simplify syntax and make code more concise, especially when working with custom data types or implementing domain-specific languages. For example, overloading comparison operators (<, <=, ==, !=, >=, >) can make code more readable when comparing objects.\\n\\nPromoting Consistency: If your class behaves similarly to built-in types or other commonly used classes, overloading operators can promote consistency and make your code more familiar to users. For example, implementing arithmetic operators (+, -, *, /) for a Matrix class can make working with matrices more intuitive.\\n\\nFacilitating Polymorphism: Operator overloading allows objects of different classes to behave similarly with respect to operators, promoting polymorphic behavior. This can simplify code and make it more generic and reusable. For example, defining __add__ for different classes allows them to support addition in a consistent way.\\n\\nImproving Readability: In some cases, overloading operators can improve the readability of code by making it more expressive and idiomatic. For example, overloading __getitem__ and __setitem__ allows instances of a class to support indexing and slicing operations, making code more concise and readable.\\n\\n'"
      ]
     },
     "execution_count": 5,
     "metadata": {},
     "output_type": "execute_result"
    }
   ],
   "source": [
    "# Q5. When is it appropriate to use operator overloading?\n",
    "\n",
    "\n",
    "'''\n",
    "\n",
    "Operator overloading is appropriate in Python when it enhances the readability, expressiveness, and usability of your code without sacrificing clarity or violating the principle of least astonishment. Here are some situations where operator overloading is commonly used:\n",
    "\n",
    "Natural Semantics: When the operators have a natural semantic meaning in the context of your class or data structure, overloading them can make your code more intuitive and readable. For example, overloading the + operator for vector addition in a Vector class.\n",
    "\n",
    "Simplifying Syntax: Operator overloading can simplify syntax and make code more concise, especially when working with custom data types or implementing domain-specific languages. For example, overloading comparison operators (<, <=, ==, !=, >=, >) can make code more readable when comparing objects.\n",
    "\n",
    "Promoting Consistency: If your class behaves similarly to built-in types or other commonly used classes, overloading operators can promote consistency and make your code more familiar to users. For example, implementing arithmetic operators (+, -, *, /) for a Matrix class can make working with matrices more intuitive.\n",
    "\n",
    "Facilitating Polymorphism: Operator overloading allows objects of different classes to behave similarly with respect to operators, promoting polymorphic behavior. This can simplify code and make it more generic and reusable. For example, defining __add__ for different classes allows them to support addition in a consistent way.\n",
    "\n",
    "Improving Readability: In some cases, overloading operators can improve the readability of code by making it more expressive and idiomatic. For example, overloading __getitem__ and __setitem__ allows instances of a class to support indexing and slicing operations, making code more concise and readable.\n",
    "\n",
    "'''\n"
   ]
  },
  {
   "cell_type": "code",
   "execution_count": null,
   "metadata": {},
   "outputs": [],
   "source": []
  }
 ],
 "metadata": {
  "kernelspec": {
   "display_name": "Python 3",
   "language": "python",
   "name": "python3"
  },
  "language_info": {
   "codemirror_mode": {
    "name": "ipython",
    "version": 3
   },
   "file_extension": ".py",
   "mimetype": "text/x-python",
   "name": "python",
   "nbconvert_exporter": "python",
   "pygments_lexer": "ipython3",
   "version": "3.12.3"
  }
 },
 "nbformat": 4,
 "nbformat_minor": 2
}
